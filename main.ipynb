{
 "cells": [
  {
   "cell_type": "code",
   "execution_count": 2,
   "metadata": {},
   "outputs": [],
   "source": [
    "import gym\n",
    "import numpy as np\n",
    "from IPython.display import clear_output\n",
    "\n",
    "PROBLEM_NAME = \"Taxi-v3\""
   ]
  },
  {
   "cell_type": "code",
   "execution_count": 20,
   "metadata": {},
   "outputs": [
    {
     "output_type": "stream",
     "name": "stdout",
     "text": "500\n6\n"
    }
   ],
   "source": [
    "env = gym.make(PROBLEM_NAME)\n",
    "\n",
    "print(env.observation_space.n)\n",
    "print(env.action_space.n)"
   ]
  },
  {
   "cell_type": "code",
   "execution_count": 24,
   "metadata": {},
   "outputs": [
    {
     "output_type": "stream",
     "name": "stdout",
     "text": "max: 200\nmin: 6\n"
    }
   ],
   "source": [
    "Q = np.zeros(shape=(env.observation_space.n, env.action_space.n))\n",
    "# lr = 0.5\n",
    "lr = 0.9\n",
    "gma = 0.6\n",
    "it = 1500\n",
    "\n",
    "all_steps = []\n",
    "\n",
    "for _ in range(it):\n",
    "    is_end = False\n",
    "    state = env.reset()\n",
    "\n",
    "    steps = 0\n",
    "    while not is_end:\n",
    "        steps += 1\n",
    "        # Exploiting only\n",
    "        action = np.argmax(Q[state])\n",
    "\n",
    "        next_state, reward, is_end, _ = env.step(action) \n",
    "\n",
    "        Q[state, action] = (1 - lr) * Q[state, action] + lr * (reward + gma * np.max(Q[next_state]))\n",
    "\n",
    "        # Q[state, action] = Q[state, action] + lr * (reward + gma * np.max(Q[state, :]) - Q[state, action])\n",
    "\n",
    "        state = next_state\n",
    "\n",
    "    all_steps.append(steps)    \n",
    "    clear_output(wait=True)\n",
    "    print(steps)\n",
    "\n",
    "clear_output()\n",
    "print(f\"max: {np.amax(all_steps)}\")\n",
    "print(f\"min: {np.amin(all_steps)}\")"
   ]
  },
  {
   "cell_type": "code",
   "execution_count": 28,
   "metadata": {},
   "outputs": [
    {
     "output_type": "stream",
     "name": "stdout",
     "text": "Average number of steps: 13.26\n"
    }
   ],
   "source": [
    "all_steps = []\n",
    "episodes = 100\n",
    "\n",
    "for _ in range(episodes):\n",
    "    state = env.reset()\n",
    "    steps = 0\n",
    "\n",
    "    is_end = False\n",
    "    while not is_end:\n",
    "        action = np.argmax(Q[state])\n",
    "        state, reward, is_end, _ = env.step(action)\n",
    "        steps += 1\n",
    "\n",
    "    all_steps.append(steps)\n",
    "\n",
    "print(f\"Average number of steps: {np.average(all_steps)}\")\n"
   ]
  },
  {
   "cell_type": "code",
   "execution_count": null,
   "metadata": {},
   "outputs": [],
   "source": []
  }
 ],
 "metadata": {
  "language_info": {
   "codemirror_mode": {
    "name": "ipython",
    "version": 3
   },
   "file_extension": ".py",
   "mimetype": "text/x-python",
   "name": "python",
   "nbconvert_exporter": "python",
   "pygments_lexer": "ipython3",
   "version": "3.7.4-final"
  },
  "orig_nbformat": 2,
  "kernelspec": {
   "name": "python3",
   "display_name": "Python 3"
  }
 },
 "nbformat": 4,
 "nbformat_minor": 2
}